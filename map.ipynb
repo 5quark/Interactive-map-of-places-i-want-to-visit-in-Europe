{
  "nbformat": 4,
  "nbformat_minor": 0,
  "metadata": {
    "colab": {
      "name": "map.ipynb",
      "provenance": []
    },
    "kernelspec": {
      "name": "python3",
      "display_name": "Python 3"
    },
    "language_info": {
      "name": "python"
    }
  },
  "cells": [
    {
      "cell_type": "code",
      "metadata": {
        "id": "sKWv-Yf_4ZjP"
      },
      "source": [
        "import folium\n",
        "import folium.plugins as plugins\n",
        "from folium.plugins import MarkerCluster"
      ],
      "execution_count": 21,
      "outputs": []
    },
    {
      "cell_type": "code",
      "metadata": {
        "id": "fqmsv9QV52qY"
      },
      "source": [
        "#First map of Germany, i gave the latitude and longitude of Bonn for no obvious reason. \n",
        "Map = folium.Map(location=[50.7374, 7.0982], tiles='OpenStreetMap', zoom_start=10, max_zoom=19, control_scale=True)"
      ],
      "execution_count": 22,
      "outputs": []
    },
    {
      "cell_type": "code",
      "metadata": {
        "id": "UrVwmg508ooc"
      },
      "source": [
        "#define a place where you want to visit (i will implement this to automate the input of information later on):\n",
        "coordinate1=(50.6687,7.2064)\n",
        "name=\"asdasd\"\n",
        "insta_post1=\"https://www.instagram.com/p/CKtQNPtseSQ/\"\n",
        "coordinate2=(50.1483916, 7.1663195)\n",
        "instapost2=\"https://www.instagram.com/p/CMfPexxsHS1/\"\n",
        "urls=[insta_post1,instapost2]\n",
        "coordinates=[coordinate1,coordinate2]"
      ],
      "execution_count": 25,
      "outputs": []
    },
    {
      "cell_type": "code",
      "metadata": {
        "id": "aFidHtBe7WfT"
      },
      "source": [
        "#A loop to run in urls and coordinates lists:\n",
        "for i in range(2):\n",
        "    map_html = folium.Html(f\"\"\"\n",
        "        <p style=\"text-align: center;\"><iframe src={urls[i]}embed width=\"220\" height=\"270\" frameborder=\"0\" scrolling=\"auto\" allowtransparency=\"true\"></iframe>\n",
        "        \"\"\", script=True)\n",
        "    popup = folium.Popup(map_html, max_width=700)\n",
        "    marker = folium.Marker(location=coordinates[i], popup=popup)\n",
        "    marker.add_to(Map)\n",
        "tab_title = \"\"\"<Places i want to visit </title>\"\"\"\n",
        "Map.get_root().html.add_child(folium.Element(tab_title))\n",
        "Map.save('MyMap.html')"
      ],
      "execution_count": 24,
      "outputs": []
    }
  ]
}